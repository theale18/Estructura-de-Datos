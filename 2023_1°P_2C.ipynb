{
  "nbformat": 4,
  "nbformat_minor": 0,
  "metadata": {
    "colab": {
      "provenance": [],
      "include_colab_link": true
    },
    "kernelspec": {
      "name": "python3",
      "display_name": "Python 3"
    },
    "language_info": {
      "name": "python"
    }
  },
  "cells": [
    {
      "cell_type": "markdown",
      "metadata": {
        "id": "view-in-github",
        "colab_type": "text"
      },
      "source": [
        "<a href=\"https://colab.research.google.com/github/theale18/Estructura-de-Datos/blob/main/2023_1%C2%B0P_2C.ipynb\" target=\"_parent\"><img src=\"https://colab.research.google.com/assets/colab-badge.svg\" alt=\"Open In Colab\"/></a>"
      ]
    },
    {
      "cell_type": "code",
      "source": [
        "import numpy as np\n",
        "\n",
        "def primo(n):\n",
        "    # Check if the number is less than\n",
        "    # or equal to 1, return False if it is\n",
        "    if n <= 1:\n",
        "        return False\n",
        "    # Loop through all numbers from 2 to\n",
        "    # the square root of n (rounded down to the nearest integer)\n",
        "    for i in range(2, int(n**0.5)+1):\n",
        "        # If n is divisible by any of these numbers, return False\n",
        "        if n % i == 0:\n",
        "            return 0\n",
        "    # If n is not divisible by any of these numbers, return True\n",
        "    return 1\n",
        "\n",
        "# cantidad de primos\n",
        "#                1 1   1   1      1      1\n",
        "#arr = np.array([2,3,4,5,6,7,8,10,11,12,13])\n",
        "arr = np.array([5,10,9,8,13,21])\n",
        "#               1         1\n",
        "\n",
        "# el arreglo no esta vacio\n",
        "def contarPrimos(arr):\n",
        "  cant = primo(arr[0])\n",
        "  if len(arr) > 1:\n",
        "    # arr[1:] devuelve el mismo arreglo sin el 1er elemento (arr[0])\n",
        "    cant = cant + contarPrimos(arr[1:])\n",
        "  return cant\n",
        "\n",
        "print(contarPrimos(arr))"
      ],
      "metadata": {
        "colab": {
          "base_uri": "https://localhost:8080/"
        },
        "id": "hqJjcm3dsNQT",
        "outputId": "78d8f4ba-d2be-4f58-86ff-f64afe15a8e8"
      },
      "execution_count": null,
      "outputs": [
        {
          "output_type": "stream",
          "name": "stdout",
          "text": [
            "2\n"
          ]
        }
      ]
    },
    {
      "cell_type": "code",
      "source": [
        "def funcion(num)->float:\n",
        "  r = (num**0.5)\n",
        "  return r\n",
        "\n",
        "num = 4\n",
        "print(funcion(num))"
      ],
      "metadata": {
        "colab": {
          "base_uri": "https://localhost:8080/"
        },
        "id": "XSDXc66DQj4y",
        "outputId": "7146ab14-d9ad-49d7-912a-08c0d528486a"
      },
      "execution_count": null,
      "outputs": [
        {
          "output_type": "stream",
          "name": "stdout",
          "text": [
            "2.0\n"
          ]
        }
      ]
    },
    {
      "cell_type": "code",
      "source": [
        "class Materia:\n",
        "  def __init__(self, nombre, cantAlum):\n",
        "    self._nombre = nombre\n",
        "    self._cantAlum = cantAlum\n",
        "    self._cantVentanas = 28\n",
        "\n",
        "  def cantAlum(self):\n",
        "    return self._cantAlum\n",
        "\n",
        "  def __repr__(self):\n",
        "    return self._nombre +\" \" + self._cantAlum.__repr__()\n",
        "\n",
        "class Edificio:\n",
        "#     EdificioUNaHur( nombre, cantAulasPiso )\n",
        "  def asignarMateria2(self, nombreM, cantAlum):\n",
        "    f = 0\n",
        "    encontre = False\n",
        "    while f < len(self._estruc) and not encontre:\n",
        "      c = 0\n",
        "      while c < len(self._estruc[0]) and not encontre:\n",
        "        print(self._estruc[f][c], f, c)\n",
        "        if self._estruc[f][c] == None:\n",
        "          self._estruc[f][c] = Materia(nombreM, cantAlum) # mate\n",
        "          encontre = True\n",
        "        f = f + 1\n",
        "        c = c + 1\n",
        "      if encontre:\n",
        "          return (f,c)\n",
        "      else:\n",
        "          raise Exception(\"Edificio lleno\")\n",
        "#\n",
        "  # asumimos cantAulasxPiso > 0\n",
        "  def __init__(self, nombreE, cantAulasxPiso):\n",
        "    self._nombre = nombreE\n",
        "    self._estruc = np.zeros(( 3   , cantAulasxPiso),Materia)\n",
        "#                          (Piso  , Aula  )\n",
        "#                          (f     , c     )\n",
        "\n",
        "#     asignarAula( nombreMateri, cantEstudiantes )\n",
        "# asumimos que la matriz no esta vacia\n",
        "  def asignarMateria(self, nombreM, cantAlum):\n",
        "    for f in range(len(self._estruc)):\n",
        "      for c in range(len(self._estruc[0])):\n",
        "        if self._estruc[f][c] == 0:\n",
        "          self._estruc[f][c] = Materia(nombreM, cantAlum) # mate\n",
        "          return (f,c) # <---\n",
        "    raise Exception(\"Edificio lleno\")\n",
        "\n",
        "#     nuevaCursada()\n",
        "  def vaciar(self):\n",
        "    for f in range(len(self._estruc)):\n",
        "      for c in range(len(self._estruc[0])):\n",
        "        self._estruc[f][c] = 0\n",
        "\n",
        "    # self._estruc = np.zeros(( 3, len(self._estruc[0]),Materia)\n",
        "\n",
        "#       2°\n",
        "#     cantidadAlumnos(nPiso)\n",
        "  def cantAlumPiso(self, piso):\n",
        "    total = 0\n",
        "    for c in range(len(self._estruc[piso])):\n",
        "      if self._estruc[piso][c] != 0:\n",
        "        mate = self._estruc[piso][c]\n",
        "        total = total + mate.cantAlum()\n",
        "    return total\n",
        "\n",
        "  def __repr__(self):\n",
        "    return self._nombre + \" \" + self._estruc.__repr__()\n",
        "\n",
        "\n",
        "\n",
        "malvinas = Edificio(\"Mavinas\", 2)\n",
        "\n",
        "malvinas.asignarMateria(\"ED com1\",44)\n",
        "malvinas.asignarMateria(\"ED com2\",4)\n",
        "malvinas.asignarMateria(\"ED com3\",23)\n",
        "malvinas.asignarMateria(\"ED com4\",45)\n",
        "malvinas.asignarMateria(\"ED com5\",485)\n",
        "malvinas.asignarMateria(\"ED com6\",485)\n",
        "# malvinas.asignarMateria(\"ED com6\",485)\n",
        "\n",
        "print(malvinas.cantAlumPiso(1))\n",
        "print(malvinas)\n",
        "malvinas.vaciar()\n",
        "print(malvinas)"
      ],
      "metadata": {
        "colab": {
          "base_uri": "https://localhost:8080/"
        },
        "id": "__3G36aVyutc",
        "outputId": "e7f62533-e54c-4f1c-e0ad-15655b2a2ed0"
      },
      "execution_count": null,
      "outputs": [
        {
          "output_type": "stream",
          "name": "stdout",
          "text": [
            "68\n",
            "Mavinas array([[ED com1 44, ED com2 4],\n",
            "       [ED com3 23, ED com4 45],\n",
            "       [ED com5 485, ED com6 485]], dtype=object)\n",
            "Mavinas array([[0, 0],\n",
            "       [0, 0],\n",
            "       [0, 0]], dtype=object)\n"
          ]
        }
      ]
    }
  ]
}