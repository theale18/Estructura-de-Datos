{
  "nbformat": 4,
  "nbformat_minor": 0,
  "metadata": {
    "colab": {
      "provenance": [],
      "include_colab_link": true
    },
    "kernelspec": {
      "name": "python3",
      "display_name": "Python 3"
    }
  },
  "cells": [
    {
      "cell_type": "markdown",
      "metadata": {
        "id": "view-in-github",
        "colab_type": "text"
      },
      "source": [
        "<a href=\"https://colab.research.google.com/github/theale18/Estructura-de-Datos/blob/main/Trabajo_practico_2__Tipos_de_datos_Abstractos_com1.ipynb\" target=\"_parent\"><img src=\"https://colab.research.google.com/assets/colab-badge.svg\" alt=\"Open In Colab\"/></a>"
      ]
    },
    {
      "cell_type": "markdown",
      "metadata": {
        "id": "42630xxYD0gZ"
      },
      "source": [
        "# ![alt text](https://upload.wikimedia.org/wikipedia/commons/thumb/c/c3/Python-logo-notext.svg/50px-Python-logo-notext.svg.png) **Trabajo Práctico 2: Tipos de datos abstractos** ![alt text](https://upload.wikimedia.org/wikipedia/commons/thumb/c/c3/Python-logo-notext.svg/50px-Python-logo-notext.svg.png)\n",
        "\n",
        "En este trabajo práctico, vamos a trabajar con la definición de tipos de datos abstractos en Python. Recuerden crear una copia de este archivo en su ***Google Drive*** para tener permisos de edición.\n",
        "\n",
        "### Sergio: **sergio.gonzalez@unahur.edu.ar** ###\n"
      ]
    },
    {
      "cell_type": "markdown",
      "metadata": {
        "id": "cwvo5HlCXnwM"
      },
      "source": [
        "**En cada ejercicio, luego de implementar el TDA pedido, tienen que probar cada una de las operaciones en un programa principal, ejecutando cada una de ellas**\n",
        "\n",
        "**En el video les comenté de la función \\_\\_str__ para la representación de variables de los TDAs, en lugar de \\_\\_str__ pueden implementar \\_\\_repr__ que es similar pero más general (No solo sirve para el *print*, sino para la representación en general de variables del TDA)**\n"
      ]
    },
    {
      "cell_type": "code",
      "source": [
        "def validarTipo2(variable, nombre, tipo, condicion = True):\n",
        "  if isinstance(variable, tipo) and condicion:\n",
        "    return variable\n",
        "  else:\n",
        "    raise Exception(\"La variable \" + nombre + \" debe ser de tipo \" + str(tipo) + \". o falla la condicion \"  )\n",
        "\n",
        "def validarTipo(variable, nombre, tipo):\n",
        "  if isinstance(variable, tipo):\n",
        "    return variable\n",
        "  else:\n",
        "    raise Exception(\"La variable \" + nombre + \" debe ser de tipo \" + str(tipo) + \".\")\n",
        "\n",
        "def validarAño(año):\n",
        "  if validarTipo(año, \"año\", int) and año >= 1870:\n",
        "    return año\n",
        "  else:\n",
        "    raise Exception(\"Año incorrecto\")\n",
        "\n",
        "\n",
        "def validarAltura(altura):\n",
        "  if validarTipo(altura, \"altura\", float) and altura > 0:\n",
        "    return altura\n",
        "  else:\n",
        "    raise Exception(\"Altura incorrecta\")\n"
      ],
      "metadata": {
        "id": "Zw0Z6fHghB1P"
      },
      "execution_count": null,
      "outputs": []
    },
    {
      "cell_type": "code",
      "source": [
        "#TDA Auto\n",
        "#cantPuertas -> int\n",
        "#Marca -> str\n",
        "#Modelo -> str\n",
        "#cilindrada -> float\n",
        "\n",
        "class Auto:\n",
        "  def __init__(self, cantPuertas:int, marca:str, modelo:str, cilindrada:float):\n",
        "    self.__cantidadPuertas = cantPuertas\n",
        "    self.__marca = marca\n",
        "    self.__modelo = modelo\n",
        "    self.__cilindrada = cilindrada\n",
        "\n",
        "  def __repr__(self):\n",
        "    return self.__marca+\"(\"+self.__modelo+\")\"\n",
        "\n",
        "  def esIneficiente(self, cilLimite:float)->bool:\n",
        "    return self.__cilindrada >= cilLimite\n",
        "\n",
        "  def setMarca(self, marcaNueva:str):\n",
        "    self.__marca = marcaNueva"
      ],
      "metadata": {
        "id": "sEit5lNGvaLO"
      },
      "execution_count": null,
      "outputs": []
    },
    {
      "cell_type": "code",
      "source": [
        "auto1 = Auto(5,\"VW\",\"gol\",1.8)\n",
        "print(auto1)\n"
      ],
      "metadata": {
        "colab": {
          "base_uri": "https://localhost:8080/"
        },
        "id": "1JGx8Zyf-8Lk",
        "outputId": "7cfc134c-008b-4f8f-b6a5-ea6e35be358f"
      },
      "execution_count": null,
      "outputs": [
        {
          "output_type": "stream",
          "name": "stdout",
          "text": [
            "VW(gol)\n"
          ]
        }
      ]
    },
    {
      "cell_type": "code",
      "source": [
        "auto1 = Auto(5,\"VW\",\"gol\",1.8)\n",
        "print(auto1)\n",
        "print(Auto.esIneficiente(auto1,1.5))\n",
        "print(auto1.esIneficiente(1.5))\n",
        "auto1.setMarca(\"Ford\")\n",
        "print(auto1)"
      ],
      "metadata": {
        "colab": {
          "base_uri": "https://localhost:8080/"
        },
        "id": "cm3McJk3wLjr",
        "outputId": "6c8ef87a-d3dc-4027-80dc-08fdeccb7028"
      },
      "execution_count": null,
      "outputs": [
        {
          "output_type": "stream",
          "name": "stdout",
          "text": [
            "VW(gol)\n",
            "True\n",
            "True\n",
            "Ford(gol)\n"
          ]
        }
      ]
    },
    {
      "cell_type": "code",
      "source": [
        "#TDA como parametro de una funcion\n",
        "def test(auto:Auto):\n",
        "  auto.setMarca(\"Chevrolet\")"
      ],
      "metadata": {
        "id": "DjOOsbt12leQ"
      },
      "execution_count": null,
      "outputs": []
    },
    {
      "cell_type": "code",
      "source": [
        "auto2 = Auto(4,\"Ford\",\"Fiesta\",1.4)\n",
        "print(auto2)\n",
        "test(auto2)\n",
        "print(auto2)"
      ],
      "metadata": {
        "colab": {
          "base_uri": "https://localhost:8080/"
        },
        "id": "mEWYtb5L250V",
        "outputId": "22b27b69-31bb-4771-b3a9-24b678fcbb9f"
      },
      "execution_count": null,
      "outputs": [
        {
          "output_type": "stream",
          "name": "stdout",
          "text": [
            "Ford(Fiesta)\n",
            "Chevrolet(Fiesta)\n"
          ]
        }
      ]
    },
    {
      "cell_type": "code",
      "source": [
        "import copy #deepcopy\n",
        "#Operador de asignacion\n",
        "auto3 = Auto(4,\"Ford\",\"Fiesta\",1.4)\n",
        "auto4 = copy.deepcopy(auto3)\n",
        "print(auto3)\n",
        "print(auto4)\n",
        "auto3.setMarca(\"VW\")\n",
        "print()\n",
        "print(auto3)\n",
        "print(auto4)"
      ],
      "metadata": {
        "colab": {
          "base_uri": "https://localhost:8080/"
        },
        "id": "gW3lxRgk3wgu",
        "outputId": "df24d6ba-8286-4521-c816-afa9df150231"
      },
      "execution_count": null,
      "outputs": [
        {
          "output_type": "stream",
          "name": "stdout",
          "text": [
            "Ford(Fiesta)\n",
            "Ford(Fiesta)\n",
            "\n",
            "VW(Fiesta)\n",
            "Ford(Fiesta)\n"
          ]
        }
      ]
    },
    {
      "cell_type": "code",
      "source": [
        "print(auto3.__marca)"
      ],
      "metadata": {
        "colab": {
          "base_uri": "https://localhost:8080/"
        },
        "id": "nG8tp7bF6ZiZ",
        "outputId": "9a14b888-9257-4dab-dfdd-590988663603"
      },
      "execution_count": null,
      "outputs": [
        {
          "output_type": "stream",
          "name": "stdout",
          "text": [
            "DDD\n"
          ]
        }
      ]
    },
    {
      "cell_type": "code",
      "source": [
        "auto5 = Auto(3,\"Chevrolet\",\"Corsa\",1.4)\n"
      ],
      "metadata": {
        "id": "hbIl8EJSDjuw"
      },
      "execution_count": null,
      "outputs": []
    },
    {
      "cell_type": "markdown",
      "metadata": {
        "id": "DyzOhAhyXPt8"
      },
      "source": [
        "### **Ejercicio 1**\n",
        "\n",
        "Implementar el TDA \"Propiedad\" que modela un inmueble, con una estructura definida por los siguientes componentes:\n",
        "- Calle\n",
        "- Número\n",
        "- Localidad\n",
        "- Año de construcción\n",
        "- Cantidad de ambientes\n",
        "\n",
        "Implementar las siguientes operaciones:\n",
        "- Constructor: Debe incluir las validaciones necesarias, teniendo en cuenta que solo se almacenan propiedades construidas luego de 1870.\n",
        "- \\_\\_repr__: Al usar la función *print* con una variable del tipo propiedad debe mostrar: **'calle' 'numero' ('localidad')**.\n",
        "- mismaLocalidad: Operación que recibe dos propiedades y retorna *True* si estan en la misma localidad y *False* en caso contrario.\n",
        "- mayorNumeración: Operación que recibe dos propiedades y si están en la misma calle, retorna la que posee mayor numeración. Si están calles diferentes debe lanzar una excepción.\n",
        "- calculaImpuestoARBA: Operación que retorna el porcentaje de impuesto inmobiliario de una propiedad, según la siguiente regla:\n",
        " - Propiedades entre 1870 y 1949:\n",
        "   - Entre 1 y 3 ambientes: 5% de impuesto\n",
        "   - Entre 4 y 6 ambientes: 10% de impuesto\n",
        "   - Más de 6 ambientes: 25 % de impuesto\n",
        " - Propiedades desde 1950 hasta la actualidad:\n",
        "   - Entre 1 y 5 ambientes: 5% de impuesto\n",
        "   - Más de 5 ambientes: 35 % de impuesto\n"
      ]
    },
    {
      "cell_type": "code",
      "source": [
        "var=4\n",
        "print(isinstance(var, int))"
      ],
      "metadata": {
        "colab": {
          "base_uri": "https://localhost:8080/"
        },
        "id": "B36ozYCBE64s",
        "outputId": "c99f2eb1-53e0-4393-8e93-48af593a0996"
      },
      "execution_count": null,
      "outputs": [
        {
          "output_type": "stream",
          "name": "stdout",
          "text": [
            "True\n"
          ]
        }
      ]
    },
    {
      "cell_type": "code",
      "metadata": {
        "id": "RaEQSMR_cgI_"
      },
      "source": [
        "def validarTipo(varTest, tipo:type, varName:str):\n",
        "  salida = None\n",
        "  if isinstance(varTest, tipo):\n",
        "    salida = varTest\n",
        "  else:\n",
        "    raise Exception(\"La variable \" + varName +\" debe ser un \"+ str(tipo))\n",
        "  return salida\n",
        "\n",
        "def validarStrVacia(stringVar, varName):\n",
        "  salida = None\n",
        "  if validarTipo(stringVar, str, varName):\n",
        "    if stringVar != \"\":\n",
        "      salida = stringVar.lower()\n",
        "    else:\n",
        "      raise Exception(varName + \"No puede estar vacia\")\n",
        "  return salida\n",
        "\n",
        "def validarAñoConstruccion(añoConstruccion:int)->int:\n",
        "  salida = None\n",
        "  if añoConstruccion >= 1870:\n",
        "    salida = añoConstruccion\n",
        "  else:\n",
        "    raise Exception(\"El año de construccion debe ser mayor a 1869\")\n",
        "def validarTipoYañoConstruccion(añoConstruccion):\n",
        "  salida = None\n",
        "  if validarTipo(añoConstruccion, int, \"añoConstruccion\"):\n",
        "    salida = validarAñoConstruccion(añoConstruccion)\n",
        "  return salida\n",
        "\n",
        "def validarPositivo(numero:int, varName:str)->int:\n",
        "  salida = None\n",
        "  if numero > 0:\n",
        "    salida = numero\n",
        "  else:\n",
        "    raise Exception(varName + \" debe ser un numero entero positivo\")\n",
        "  return numero\n",
        "def validarNatural(numero, varName:str):\n",
        "  salida = None\n",
        "  if validarTipo(numero, int, varName):\n",
        "    salida = validarPositivo(numero, varName)\n",
        "  return salida\n",
        "\n",
        "class Propiedad:\n",
        "  def __init__(self, calle:str, numero:int, localidad:str, anioConstruccion:int, cantidadAmbientes:int):\n",
        "    self.__calle = validarStrVacia(calle,\"calle\")\n",
        "    self.__numero = validarNatural(numero,\"numero\")\n",
        "    self.__loc = validarTipo(localidad,str,\"localidad\")\n",
        "    self.__anioConstruccion = validarTipoYañoConstruccion(anioConstruccion)\n",
        "    self.__cantidadAmbientes = validarNatural(cantidadAmbientes,\"cantidadAmbientes\")\n",
        "  def __repr__(self):\n",
        "    return \"%s %s (%s)\" % (self.__calle, self.__numero, self.__localidad)\n",
        "\n",
        "  def mismaCalle(propiedad1, propiedad2)->bool:\n",
        "    return propiedad1.__calle == propiedad2.__calle\n",
        "\n",
        "  def mayorNumeracion(propiedad1, propiedad2):\n",
        "    propiedadMayorNumeracion = None\n",
        "    if Propiedad.mismaCalle(propiedad1,propiedad2):\n",
        "      propiedadMayorNumeracion = propiedad1\n",
        "      if propiedad2.__numero > propiedad1.__numero:\n",
        "        propiedadMayorNumeracion = propiedad2\n",
        "    return propiedadMayorNumeracion\n",
        "\n",
        "  def getLocalidad(self):\n",
        "    return self.__loc\n"
      ],
      "execution_count": null,
      "outputs": []
    },
    {
      "cell_type": "code",
      "source": [
        "prop1 = Propiedad(\"San Martin\",654,\"Ituzaingo\",1880,2)\n",
        "prop2 = Propiedad(\"San Martin\",700,\"Ituzaingo\",1880,2)\n",
        "\n",
        "print(Propiedad.mayorNumeracion(prop1,prop2))\n",
        "#print(prop2)"
      ],
      "metadata": {
        "colab": {
          "base_uri": "https://localhost:8080/",
          "height": 315
        },
        "id": "Lm7mmrO_GDEG",
        "outputId": "331e2da6-5e98-406e-ead6-cc0103c5914a"
      },
      "execution_count": null,
      "outputs": [
        {
          "output_type": "error",
          "ename": "AttributeError",
          "evalue": "'Propiedad' object has no attribute '_Propiedad__localidad'",
          "traceback": [
            "\u001b[0;31m---------------------------------------------------------------------------\u001b[0m",
            "\u001b[0;31mAttributeError\u001b[0m                            Traceback (most recent call last)",
            "\u001b[0;32m<ipython-input-41-aaa609d65e9a>\u001b[0m in \u001b[0;36m<cell line: 4>\u001b[0;34m()\u001b[0m\n\u001b[1;32m      2\u001b[0m \u001b[0mprop2\u001b[0m \u001b[0;34m=\u001b[0m \u001b[0mPropiedad\u001b[0m\u001b[0;34m(\u001b[0m\u001b[0;34m\"San Martin\"\u001b[0m\u001b[0;34m,\u001b[0m\u001b[0;36m700\u001b[0m\u001b[0;34m,\u001b[0m\u001b[0;34m\"Ituzaingo\"\u001b[0m\u001b[0;34m,\u001b[0m\u001b[0;36m1880\u001b[0m\u001b[0;34m,\u001b[0m\u001b[0;36m2\u001b[0m\u001b[0;34m)\u001b[0m\u001b[0;34m\u001b[0m\u001b[0;34m\u001b[0m\u001b[0m\n\u001b[1;32m      3\u001b[0m \u001b[0;34m\u001b[0m\u001b[0m\n\u001b[0;32m----> 4\u001b[0;31m \u001b[0mprint\u001b[0m\u001b[0;34m(\u001b[0m\u001b[0mPropiedad\u001b[0m\u001b[0;34m.\u001b[0m\u001b[0mmayorNumeracion\u001b[0m\u001b[0;34m(\u001b[0m\u001b[0mprop1\u001b[0m\u001b[0;34m,\u001b[0m\u001b[0mprop2\u001b[0m\u001b[0;34m)\u001b[0m\u001b[0;34m)\u001b[0m\u001b[0;34m\u001b[0m\u001b[0;34m\u001b[0m\u001b[0m\n\u001b[0m\u001b[1;32m      5\u001b[0m \u001b[0;31m#print(prop2)\u001b[0m\u001b[0;34m\u001b[0m\u001b[0;34m\u001b[0m\u001b[0m\n",
            "\u001b[0;32m<ipython-input-40-859580fa4447>\u001b[0m in \u001b[0;36m__repr__\u001b[0;34m(self)\u001b[0m\n\u001b[1;32m     49\u001b[0m     \u001b[0mself\u001b[0m\u001b[0;34m.\u001b[0m\u001b[0m__cantidadAmbientes\u001b[0m \u001b[0;34m=\u001b[0m \u001b[0mvalidarNatural\u001b[0m\u001b[0;34m(\u001b[0m\u001b[0mcantidadAmbientes\u001b[0m\u001b[0;34m,\u001b[0m\u001b[0;34m\"cantidadAmbientes\"\u001b[0m\u001b[0;34m)\u001b[0m\u001b[0;34m\u001b[0m\u001b[0;34m\u001b[0m\u001b[0m\n\u001b[1;32m     50\u001b[0m   \u001b[0;32mdef\u001b[0m \u001b[0m__repr__\u001b[0m\u001b[0;34m(\u001b[0m\u001b[0mself\u001b[0m\u001b[0;34m)\u001b[0m\u001b[0;34m:\u001b[0m\u001b[0;34m\u001b[0m\u001b[0;34m\u001b[0m\u001b[0m\n\u001b[0;32m---> 51\u001b[0;31m     \u001b[0;32mreturn\u001b[0m \u001b[0;34m\"%s %s (%s)\"\u001b[0m \u001b[0;34m%\u001b[0m \u001b[0;34m(\u001b[0m\u001b[0mself\u001b[0m\u001b[0;34m.\u001b[0m\u001b[0m__calle\u001b[0m\u001b[0;34m,\u001b[0m \u001b[0mself\u001b[0m\u001b[0;34m.\u001b[0m\u001b[0m__numero\u001b[0m\u001b[0;34m,\u001b[0m \u001b[0mself\u001b[0m\u001b[0;34m.\u001b[0m\u001b[0m__localidad\u001b[0m\u001b[0;34m)\u001b[0m\u001b[0;34m\u001b[0m\u001b[0;34m\u001b[0m\u001b[0m\n\u001b[0m\u001b[1;32m     52\u001b[0m \u001b[0;34m\u001b[0m\u001b[0m\n\u001b[1;32m     53\u001b[0m   \u001b[0;32mdef\u001b[0m \u001b[0mmismaCalle\u001b[0m\u001b[0;34m(\u001b[0m\u001b[0mpropiedad1\u001b[0m\u001b[0;34m,\u001b[0m \u001b[0mpropiedad2\u001b[0m\u001b[0;34m)\u001b[0m\u001b[0;34m->\u001b[0m\u001b[0mbool\u001b[0m\u001b[0;34m:\u001b[0m\u001b[0;34m\u001b[0m\u001b[0;34m\u001b[0m\u001b[0m\n",
            "\u001b[0;31mAttributeError\u001b[0m: 'Propiedad' object has no attribute '_Propiedad__localidad'"
          ]
        }
      ]
    },
    {
      "cell_type": "code",
      "source": [
        "def compararLocalidad(prop1:Propiedad, prop2:Propiedad)->bool:\n",
        "  return prop1.getLocalidad() == prop2.getLocalidad()\n",
        "\n",
        "print(compararLocalidad(prop1, prop2))"
      ],
      "metadata": {
        "colab": {
          "base_uri": "https://localhost:8080/"
        },
        "id": "Epxy_WL5QnTJ",
        "outputId": "8e3fdbb2-bda8-4a2f-f315-40783f8b9d16"
      },
      "execution_count": null,
      "outputs": [
        {
          "output_type": "stream",
          "name": "stdout",
          "text": [
            "True\n"
          ]
        }
      ]
    },
    {
      "cell_type": "markdown",
      "metadata": {
        "id": "rP1dZEXTe-qq"
      },
      "source": [
        "### **Ejercicio 2**\n",
        "\n",
        "Implementar el TDA \"Cuenta\" que modela una cuenta bancaria, la estructura de datos esta compuesta por los siguientes componentes:\n",
        "- Número de cuenta\n",
        "- DNI del titular\n",
        "- Saldo de cuenta actual\n",
        "- Interés anual\n",
        "\n",
        "Implementar las siguientes operaciones:\n",
        "- Constructor: Debe incluir las validaciones necesarias.\n",
        "- \\_\\_repr__: Al usar la función *print* con una variable del tipo cuenta debe mostrar: **Cuenta Nro: 'numero' - Titular: 'dni' ($'saldo')**.\n",
        "- actualizarSaldo: Operación que actualiza el saldo de la cuenta aplicándole el interés diario (interés anual dividido entre 365).\n",
        "- ingresarDinero: Operación que recibe un número e ingresa esa cantidad en la cuenta.\n",
        "- retirarDinero: Operación que recibe un número y extrae esa cantidad de la cuenta (si hay saldo disponible), sino debe lanzar una excepción."
      ]
    },
    {
      "cell_type": "code",
      "metadata": {
        "id": "IEDFppP6hENW"
      },
      "source": [
        "class Cuenta:\n",
        "  def __init__(self, numeroDeCuenta:int = 0, dniDelTitular:int = 0, saldoDeCuentaActual:int = 0, interésAnual:int = 0):\n",
        "    self.__numeroDeCuenta = validarTipo(numeroDeCuenta, int, \"numeroDeCuenta\")\n",
        "    self.__dniDelTitular = validarTipo(dniDelTitular, int, \"dniDelTitular\")\n",
        "    self.__saldoDeCuentaActual = validarTipo(saldoDeCuentaActual, float, \"saldoDeCuentaActual\")\n",
        "    self.__interésAnual = validarTipo(interésAnual, float, \"interésAnual\")\n",
        "\n",
        "  def __repr__(self):\n",
        "    return \"Cuenta Nro: %s - Titular: %s ($%s)\" % (self.__numeroDeCuenta,self.__dniDelTitular, self.__saldoDeCuentaActual)\n",
        "\n",
        "  def ingresarSaldo(self, saldoAIngresar:float)->None:\n",
        "    self.__saldoDeCuentaActual += saldoAIngresar\n"
      ],
      "execution_count": null,
      "outputs": []
    },
    {
      "cell_type": "code",
      "source": [
        "cuenta1 = Cuenta(213213123,2131232,0.0,70.0)\n",
        "print(cuenta1)\n",
        "cuenta1.ingresarSaldo(1123213.56)\n",
        "print(cuenta1)\n"
      ],
      "metadata": {
        "colab": {
          "base_uri": "https://localhost:8080/"
        },
        "id": "ui_qXNemTsiX",
        "outputId": "05a291d4-2420-4501-bff1-724b6260b674"
      },
      "execution_count": null,
      "outputs": [
        {
          "output_type": "stream",
          "name": "stdout",
          "text": [
            "Cuenta Nro: 213213123 - Titular: 2131232 ($0.0)\n",
            "Cuenta Nro: 213213123 - Titular: 2131232 ($1123213.56)\n"
          ]
        }
      ]
    },
    {
      "cell_type": "markdown",
      "metadata": {
        "id": "x8DVU8HlhE2q"
      },
      "source": [
        "### **Ejercicio 3**\n",
        "\n",
        "Implementar el TDA \"Tiempo\" que modela una duracion en horas, minutos y segundos.\n",
        "\n",
        "Se deben implementar las siguientes operaciones:\n",
        "- Constructor: Debe incluir las validaciones necesarias, la hora debe ser un número positivo y los minutos y segundos deben ser números positivos entre 0 y 59.\n",
        "- \\_\\_repr__: Al usar la función *print* con una variable del tipo tiempo debe mostrar: **'horas':'minutos':'segundos'**.\n",
        "- tiempoASegundos: Operación que toma una variable de tipo tiempo y retorna la cantidad en segundos.\n",
        "- tiemposDesdeSegundos: Operación que recibe un tiempo en segundos como parámetro y retorna una variable de tipo tiempo, en horas minutos y segundos.\n",
        "- mayorDuracion: Operación que recibe dos variables de tipo tiempo y retorna la de mayor duración."
      ]
    },
    {
      "cell_type": "code",
      "source": [
        "class Tiempo:\n",
        "  def __init__(self,h,m,s):\n",
        "    self.__horas = h\n",
        "    self.__minutos = m\n",
        "    self.__segundos = s\n",
        "  def __repr__(self):\n",
        "    return \"%s:%s:%s\" % (self.__horas,self.__minutos,self.__segundos)\n",
        "    #return f\"{self.__horas}:{self.__minutos}:{self.__segundos}\"\n",
        "  def tiempoASegundos(self):\n",
        "    pass\n",
        "  def tiemposDesdeSegundos(cantidadSegundos:int):\n",
        "    pass\n",
        "  def __sub__(t1,t2): #operador -\n",
        "    #Retorna una variablke de tipo Tiempo con la diferencia de tiempos\n",
        "    diferenciaSegundos = abs(t2.tiempoASegundos()-t1.tiempoASegundos())\n",
        "    return Tiempo.tiemposDesdeSegundos(diferenciaSegundos)"
      ],
      "metadata": {
        "id": "ZtL44I9lI1Lf"
      },
      "execution_count": null,
      "outputs": []
    },
    {
      "cell_type": "markdown",
      "source": [
        "\n",
        "### **Ejercicio 4: TDA en dos niveles**\n",
        "\n",
        "Modelar el TDA \"Cronometro\", que contiene un tiempo inicial y un tiempo final.\n",
        "\n",
        "Se deben implementar las siguientes operaciones:\n",
        "\n",
        "- Constructor: Queremos modelar el tiempo inicial y final con el TDA \"Tiempo\". Se pueden tener dos variables que se inicializaran en otra operación de la interface.\n",
        "- Comenzar: Debe recibir las hs,min y seg iniciales.\n",
        "- Finalizar: Debe recibir las hs,min y seg finales.\n",
        "- TiempoEmpleado: Devuelve una variable de tipo Tiempo con la diferencia entre el tiempo inicial y el final."
      ],
      "metadata": {
        "id": "5gcdaYCShYkt"
      }
    },
    {
      "cell_type": "code",
      "metadata": {
        "id": "5Y-A98mZkTEq"
      },
      "source": [
        "class Cronometro:\n",
        "  def __init__(self, t1:Tiempo=None, t2:Tiempo=None):\n",
        "    self.__tiempoInicial = t1\n",
        "    self.__tiempoFinal = t2\n",
        "  def __repr__(self):\n",
        "    return str(self.__tiempoInicial)+\" - \"+str(self.__tiempoFinal)\n",
        "  def comenzar(self, h:int, m:int, s:int):\n",
        "    self.__tiempoInicial = Tiempo(h,m,s)\n",
        "  def tiempoEmpleado(self):\n",
        "    return self.__tiempoInicial - self.__tiempoFinal\n"
      ],
      "execution_count": null,
      "outputs": []
    },
    {
      "cell_type": "code",
      "source": [
        "crono = Cronometro(Tiempo(13,20,34),Tiempo(14,21,56))\n",
        "print(crono)"
      ],
      "metadata": {
        "colab": {
          "base_uri": "https://localhost:8080/"
        },
        "id": "DMBKcnh1cLTZ",
        "outputId": "e9ce179f-953d-42f7-e725-932ec710fb87"
      },
      "execution_count": null,
      "outputs": [
        {
          "output_type": "stream",
          "name": "stdout",
          "text": [
            "13:20:34 - 14:21:56\n"
          ]
        }
      ]
    },
    {
      "cell_type": "markdown",
      "source": [
        "### **Ejercicio 5: TDA en dos niveles**\n",
        "\n",
        "Modelar el TDA \"Rectangulo\" a partir de los dos lados que lo definen.\n",
        "\n",
        "Se deben implementar las siguientes operaciones:\n",
        "\n",
        "- Constructor: Recibe las longitudes de ambos lados\n",
        "- area: calcula y devuelve el area del rectangulo\n",
        "- perimetro: calcula y devuelve el perimetro\n",
        "- \\_\\_repr__ : imprime la longitud de los lados\n",
        "\n",
        "Luego, modelar el TDA \"Cuadrado\" teniendo unicamente como variable interna en la estructura una variable de tipo \"Rectangulo\". El TDA Cuadrado debe tener las mismas operaciones que el TDA Rectangulo.\n",
        "\n",
        "Ayuda:\n",
        "\n",
        "Área(Rectángulo) = lado1 \\* lado2\n",
        "\n",
        "Área(Cuadrado) = lado^2\n",
        "\n",
        "Perímetro(Rectangulo) = 2 \\* lado1 + 2 \\* lado2\n",
        "\n",
        "Perímetro(Cuadrado) = 4 \\* lado"
      ],
      "metadata": {
        "id": "TX3EbDojGmAV"
      }
    },
    {
      "cell_type": "code",
      "source": [
        "class Rectangulo:\n",
        "  def __init__(self, lado1:float, lado2:float):\n",
        "    self.__lado1 = lado1\n",
        "    self.__lado2 = lado2\n",
        "\n",
        "  def __repr__(self):\n",
        "    return str(self.__lado1)+\" \"+str(self.__lado2)\n",
        "\n",
        "  def area(self):\n",
        "    return self.__lado1 * self.__lado2\n",
        "\n",
        "  def perimetro(self):\n",
        "    return 2 * (self.__lado1 + self.__lado2)\n",
        "\n",
        "  def __eq__(r1, r2):\n",
        "    return r1.__lado1 == r2.__lado1 and r1.__lado2 == r2.__lado2\n",
        "\n",
        "  def __lt__(r1, r2):\n",
        "    #El rectangulo r1 es menor que el rectangulo r2 cuando el area de r1 es menor que la de r2\n",
        "    return r1.area() < r2.area()\n",
        "\n",
        "\n",
        "  #Sobrecarga de operadores\n",
        "  #+ -> __add__\n",
        "  #- -> __less__\n",
        "  #< -> __lt__\n",
        "  #.....\n"
      ],
      "metadata": {
        "id": "X7EFCmDFG5Ph"
      },
      "execution_count": null,
      "outputs": []
    },
    {
      "cell_type": "code",
      "source": [
        "rect1 = Rectangulo(1.3,4.5)\n",
        "rect2 = Rectangulo(2.3,4.5)\n",
        "print(rect1)\n",
        "print(rect2)\n",
        "\n",
        "print(rect1 > rect2)"
      ],
      "metadata": {
        "colab": {
          "base_uri": "https://localhost:8080/"
        },
        "id": "5SDjLgpzWScf",
        "outputId": "b57da844-797a-4171-f779-5e696b5696e0"
      },
      "execution_count": null,
      "outputs": [
        {
          "output_type": "stream",
          "name": "stdout",
          "text": [
            "1.3 4.5\n",
            "2.3 4.5\n",
            "False\n"
          ]
        }
      ]
    },
    {
      "cell_type": "code",
      "source": [
        "class Cuadrado:\n",
        "  def __init__(self, lado:float):\n",
        "    self.__forma = Rectangulo(lado,lado)\n",
        "\n",
        "  def __repr__(self):\n",
        "    return str(self.__forma)\n",
        "\n",
        "  def area(self):\n",
        "    return self.__forma.area()\n",
        "\n",
        "  def perimetro(self):\n",
        "    return self.__forma.perimetro()"
      ],
      "metadata": {
        "id": "MHvKxD-1Wj9r"
      },
      "execution_count": null,
      "outputs": []
    },
    {
      "cell_type": "code",
      "source": [
        "c1 = Cuadrado(2.0)\n",
        "print(c1)\n",
        "print(c1.area())\n",
        "print(c1.perimetro())"
      ],
      "metadata": {
        "colab": {
          "base_uri": "https://localhost:8080/"
        },
        "id": "uPv1DPuRXL6Z",
        "outputId": "2a3b362c-4e81-4edf-877f-65bd7383dff1"
      },
      "execution_count": null,
      "outputs": [
        {
          "output_type": "stream",
          "name": "stdout",
          "text": [
            "2.0 2.0\n",
            "4.0\n",
            "8.0\n"
          ]
        }
      ]
    },
    {
      "cell_type": "markdown",
      "metadata": {
        "id": "30rZj5FbkT9T"
      },
      "source": [
        "### **Ejercicio 6**\n",
        "\n",
        "Las plataformas de música online como ***YouTube*** y ***Spotify*** almacenan la información asociada a las canciones en estructuras de datos complejas para hacer las búsquedas de manera eficiente. Para esto se deben modelar las canciones. Implementar el TDA \"Cancion\" con los siguientes componentes:\n",
        "- Nombre\n",
        "- Artista\n",
        "- Duración\n",
        "- Género musical (6 posibles: Rock, Jazz, Blues, Funk, Reggae y Rap).\n",
        "- Año de edición\n",
        "- Número de likes\n",
        "\n",
        "Implementar las siguientes operaciones:\n",
        "- Constructor: Debe incluir las validaciones necesarias.\n",
        "- \\_\\_repr__: Al usar la función *print* con una variable del tipo canción debe mostrar: **'nombre' - 'artista' ('duracion')**.\n",
        "- mayorDuracion: Operación que recibe dos canciones por parámetros y retorna la de mayor duración.\n",
        "- agregaLikes: Operación que recibe un número e incrementa la cantidad de likes de la canción en ese número.\n",
        "- masVotada: Operacion que recibe dos canciones y sin son del mismo artista y del mismo género musical, retorna la que tiene mayor cantidad de likes. En caso contrario debe lanzar una excepción."
      ]
    },
    {
      "cell_type": "code",
      "metadata": {
        "id": "6PllhJFLxsp_"
      },
      "source": [
        "from enum import Enum\n",
        "class GeneroMusical(Enum):\n",
        "  rock = 1\n",
        "  jazz = 2\n",
        "  blues = 3\n",
        "  funk = 4\n",
        "  reggae = 5\n",
        "  rap = 6\n"
      ],
      "execution_count": null,
      "outputs": []
    },
    {
      "cell_type": "code",
      "source": [
        "genero1 = GeneroMusical.rock\n",
        "genero2 = GeneroMusical.rock\n",
        "print(genero1==genero2)\n",
        "print(isinstance(genero1,GeneroMusical))"
      ],
      "metadata": {
        "colab": {
          "base_uri": "https://localhost:8080/"
        },
        "id": "vFJEQEmihv8h",
        "outputId": "3402031d-001d-4119-9e29-3420252987dd"
      },
      "execution_count": null,
      "outputs": [
        {
          "output_type": "stream",
          "name": "stdout",
          "text": [
            "True\n",
            "True\n"
          ]
        }
      ]
    },
    {
      "cell_type": "markdown",
      "metadata": {
        "id": "1yx_0M8PtkmE"
      },
      "source": [
        "### **Ejercicio 7**\n",
        "\n",
        "Implementar el TDA \"Quiniela\" que modela un juego de quiniela con dos números premiados. La estructura contiene:\n",
        "- Primer número premiado\n",
        "- Segundo número premiado\n",
        "- Multiplicador (cuánto se paga por cada peso apostado)\n",
        "\n",
        "Implementar las siguientes operaciones:\n",
        "- Constructor: Debe incluir las validaciones necesarias, teniendo en cuenta que los números que participan se encuentran entre 0 y 999.\n",
        "- \\_\\_repr__: Al usar la función *print* con una variable del tipo quiniela debe mostrar: **Primer número ganador: 'numero' - Segundo número ganador: 'numero' - Paga: 'multiplicador'X**.\n",
        "- esNumeroGanador: Operación que recibe un número por parámetros y retorna *True* si el número resultó ganador o *False* en caso contrario.\n",
        "- importeAPagar: Operación que recibe un número y el monto apostado por parámetros y retorna el importe a pagar si la apuesta es ganadora o 0 en caso contrario. Si el número es el primer premio, se paga 'mutiplicador' por cada peso apostado, si es el segundo premio se paga la mitad. Solo se aceptan apuestas hasta $1000.\n",
        "- premiadosCercanos: Operación que retorna *True* si los números premiados están a menos de 10 números de distancia y *False* en caso contrario.\n",
        "\n",
        "\n"
      ]
    },
    {
      "cell_type": "code",
      "source": [],
      "metadata": {
        "id": "05VjOJFp0UP2"
      },
      "execution_count": null,
      "outputs": []
    }
  ]
}
